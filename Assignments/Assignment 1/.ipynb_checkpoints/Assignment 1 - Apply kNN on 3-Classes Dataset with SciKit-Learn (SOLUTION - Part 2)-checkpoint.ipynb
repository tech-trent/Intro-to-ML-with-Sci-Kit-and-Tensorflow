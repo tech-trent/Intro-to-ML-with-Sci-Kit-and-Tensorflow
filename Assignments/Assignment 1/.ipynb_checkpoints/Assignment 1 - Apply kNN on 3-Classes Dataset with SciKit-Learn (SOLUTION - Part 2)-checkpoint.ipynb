{
 "cells": [
  {
   "cell_type": "code",
   "execution_count": 1,
   "metadata": {},
   "outputs": [],
   "source": [
    "import numpy as np\n",
    "import matplotlib.pyplot as plt"
   ]
  },
  {
   "cell_type": "code",
   "execution_count": 2,
   "metadata": {},
   "outputs": [],
   "source": [
    "X3=np.array([[1.232, 1.343],\n",
    "             [2.434, 2.676], \n",
    "             [2.655, 2.345], \n",
    "             [3.765, 1.987], \n",
    "             [2.345, 1.986], \n",
    "             [3.897, 8.456], \n",
    "             [1.123, 3.765], \n",
    "             [3.345, 1.986],\n",
    "             [2.897, 2.456], \n",
    "             [3.123, 3.765],\n",
    "             [2.876, 2.874], \n",
    "             [4.987, 5.238], \n",
    "             [5.474, 4.611], \n",
    "             [6.983, 5.733], \n",
    "             [4.236, 6.678], \n",
    "             [5.825, 8.386], \n",
    "             [4.734, 6.624], \n",
    "             [5.345, 5.986], \n",
    "             [5.897, 4.456], \n",
    "             [4.123, 4.765], \n",
    "             [6.937, 4.987], \n",
    "             [7.345, 7.657], \n",
    "             [3.832, 8.845],\n",
    "             [7.834, 9.543],\n",
    "             [4.723, 7.234], \n",
    "             [8.823, 7.823], \n",
    "             [8.124, 9.456], [9.345, 6.986]])"
   ]
  },
  {
   "cell_type": "code",
   "execution_count": 3,
   "metadata": {},
   "outputs": [],
   "source": [
    "y3=np.array([0, 0, 0, 0, 0, 0, 0, 0, 0, 0, 1, 1, 1, 1, 1, 1, 1, 1, 1, 2, 2, 2, 2, 2, 2, 2, 2, 2])"
   ]
  },
  {
   "cell_type": "code",
   "execution_count": 4,
   "metadata": {},
   "outputs": [
    {
     "data": {
      "text/plain": [
       "<matplotlib.collections.PathCollection at 0x1eb322985e0>"
      ]
     },
     "execution_count": 4,
     "metadata": {},
     "output_type": "execute_result"
    },
    {
     "data": {
      "image/png": "[encoded data removed]",
      "text/plain": [
       "<Figure size 432x288 with 1 Axes>"
      ]
     },
     "metadata": {
      "needs_background": "light"
     },
     "output_type": "display_data"
    }
   ],
   "source": [
    "plt.scatter(X3[:, 0], X3[:, 1],c=y3)"
   ]
  },
  {
   "cell_type": "code",
   "execution_count": 5,
   "metadata": {},
   "outputs": [],
   "source": [
    "from sklearn.model_selection import train_test_split\n",
    "X3_train, X3_test, y3_train, y3_test = train_test_split(X3, y3, random_state=0)"
   ]
  },
  {
   "cell_type": "code",
   "execution_count": 6,
   "metadata": {},
   "outputs": [],
   "source": [
    "#We set the number of neighbors to 5:\n",
    "from sklearn.neighbors import KNeighborsClassifier\n",
    "clf = KNeighborsClassifier(n_neighbors=5)"
   ]
  },
  {
   "cell_type": "code",
   "execution_count": 7,
   "metadata": {},
   "outputs": [
    {
     "data": {
      "text/plain": [
       "KNeighborsClassifier()"
      ]
     },
     "execution_count": 7,
     "metadata": {},
     "output_type": "execute_result"
    }
   ],
   "source": [
    "#We fit the classifier using the training set\n",
    "clf.fit(X3_train, y3_train)"
   ]
  },
  {
   "cell_type": "code",
   "execution_count": 9,
   "metadata": {},
   "outputs": [
    {
     "name": "stdout",
     "output_type": "stream",
     "text": [
      "Test set predictions: [0 2 1 1 2 1 1]\n"
     ]
    }
   ],
   "source": [
    "#Now let's make predictions on the test dataset, for this we call the predict method:\n",
    "print(\"Test set predictions: {}\".format(clf.predict(X3_test)))"
   ]
  },
  {
   "cell_type": "code",
   "execution_count": 10,
   "metadata": {},
   "outputs": [
    {
     "name": "stdout",
     "output_type": "stream",
     "text": [
      "Test set accuracy: 0.71\n"
     ]
    }
   ],
   "source": [
    "#To see how well our model is, we call the score method with the test data together with the test labels:\n",
    "print(\"Test set accuracy: {:.2f}\".format(clf.score(X3_test, y3_test)))"
   ]
  }
 ],
 "metadata": {
  "kernelspec": {
   "display_name": "Python 3",
   "language": "python",
   "name": "python3"
  },
  "language_info": {
   "codemirror_mode": {
    "name": "ipython",
    "version": 3
   },
   "file_extension": ".py",
   "mimetype": "text/x-python",
   "name": "python",
   "nbconvert_exporter": "python",
   "pygments_lexer": "ipython3",
   "version": "3.8.5"
  }
 },
 "nbformat": 4,
 "nbformat_minor": 4
}
