{
 "cells": [
  {
   "cell_type": "markdown",
   "metadata": {},
   "source": [
    "Here we construct a simple neural network with one hidden layer including 3 nodes.\n",
    "\n",
    "We consider Iris data set.\n",
    "\n",
    "Data Set Characteristics:  \n",
    "\t\n",
    "\n",
    "Multivariate\n",
    "\t\n",
    "\n",
    "Number of Instances:\n",
    "\t\n",
    "\n",
    "150\n",
    "\t\n",
    "\n",
    "Area:\n",
    "\t\n",
    "\n",
    "Life\n",
    "\n",
    "Attribute Characteristics:\n",
    "\t\n",
    "\n",
    "Real\n",
    "\t\n",
    "\n",
    "Number of Attributes:\n",
    "\t\n",
    "\n",
    "4\n",
    "\t\n",
    "\n",
    "Date Donated\n",
    "\t\n",
    "\n",
    "1988-07-01\n",
    "\n",
    "Associated Tasks:\n",
    "\t\n",
    "\n",
    "Classification\n",
    "\t\n",
    "\n",
    "Missing Values?\n",
    "\t\n",
    "\n",
    "No\n",
    "\t\n",
    "\n",
    "Number of Web Hits:\n",
    "\t\n",
    "\n",
    "3977386\n",
    "\n",
    "For more information about the data set, please look at: https://archive.ics.uci.edu/ml/datasets/iris (Links to an external site.)\n",
    "\n",
    "Attribute Information:\n",
    "\n",
    "1. sepal length in cm\n",
    "2. sepal width in cm\n",
    "3. petal length in cm\n",
    "4. petal width in cm\n",
    "\n",
    "We take the first 3 values in above as an 3-dimensional vector input for our Neural network.\n",
    "\n",
    "The Output is set to be petal width in cm.\n",
    "\n",
    " \n",
    "\n",
    "We start by loading the necessary libraries:"
   ]
  },
  {
   "cell_type": "code",
   "execution_count": 1,
   "metadata": {},
   "outputs": [
    {
     "name": "stdout",
     "output_type": "stream",
     "text": [
      "WARNING:tensorflow:From C:\\Users\\trent\\anaconda3\\lib\\site-packages\\tensorflow\\python\\compat\\v2_compat.py:96: disable_resource_variables (from tensorflow.python.ops.variable_scope) is deprecated and will be removed in a future version.\n",
      "Instructions for updating:\n",
      "non-resource variables are not supported in the long term\n"
     ]
    }
   ],
   "source": [
    "import matplotlib.pyplot as plt\n",
    "import numpy as np\n",
    "import tensorflow.compat.v1 as tf\n",
    "tf.disable_v2_behavior()\n",
    "from sklearn import datasets"
   ]
  },
  {
   "cell_type": "markdown",
   "metadata": {},
   "source": [
    "Load the Iris data and consider the pedal length (cm) as the target value"
   ]
  },
  {
   "cell_type": "code",
   "execution_count": 2,
   "metadata": {},
   "outputs": [],
   "source": [
    "iris = datasets.load_iris()\n",
    "x_vals = np.array([x[0:3] for x in iris.data])\n",
    "y_vals = np.array([x[3] for x in iris.data])\n",
    "sess = tf.Session()"
   ]
  },
  {
   "cell_type": "markdown",
   "metadata": {},
   "source": [
    "Create a 80-20 train-test split and also normalize the x features (input vector):"
   ]
  },
  {
   "cell_type": "code",
   "execution_count": 3,
   "metadata": {},
   "outputs": [],
   "source": [
    "train_indices = np.random.choice(len(x_vals), round(len(x_vals)*0.8), replace=False)\n",
    "test_indices = np.array(list(set(range(len(x_vals))) - set(train_indices)))\n",
    "x_vals_train = x_vals[train_indices]\n",
    "x_vals_test = x_vals[test_indices]\n",
    "y_vals_train = y_vals[train_indices]\n",
    "y_vals_test = y_vals[test_indices]\n",
    "def normalize_features(n):\n",
    "    vec_max = n.max(axis=0)\n",
    "    vec_min = n.min(axis=0)\n",
    "    return (n-vec_min) / (vec_max - vec_min)"
   ]
  },
  {
   "cell_type": "markdown",
   "metadata": {},
   "source": [
    "Remember `numpy.` `nan_to_num` -> Replace NaN with zero and infinity with large finite numbers\n",
    "(default behaviour) or with the numbers defined by the user using the `nan` (Links to an external site.), posinf \n",
    "and/or neginf keywords."
   ]
  },
  {
   "cell_type": "code",
   "execution_count": 6,
   "metadata": {},
   "outputs": [],
   "source": [
    "x_vals_train = np.nan_to_num(normalize_features(x_vals_train))\n",
    "x_vals_test = np.nan_to_num(normalize_features(x_vals_test))"
   ]
  },
  {
   "cell_type": "markdown",
   "metadata": {},
   "source": [
    "Now we define placeholders for input data and target:"
   ]
  },
  {
   "cell_type": "code",
   "execution_count": 7,
   "metadata": {},
   "outputs": [],
   "source": [
    "x_data = tf.placeholder(shape=[None, 3], dtype=tf.float32)\n",
    "y_target = tf.placeholder(shape=[None, 1], dtype=tf.float32)"
   ]
  },
  {
   "cell_type": "markdown",
   "metadata": {},
   "source": [
    "Here we consider one hidden layer and we set it to have three hidden nodes:"
   ]
  },
  {
   "cell_type": "code",
   "execution_count": 8,
   "metadata": {},
   "outputs": [],
   "source": [
    "Hidden_layer_nodes = 3\n",
    "W1 = tf.Variable(tf.random_normal(shape=[3,Hidden_layer_nodes]))\n",
    "v1 = tf.Variable(tf.random_normal(shape=[Hidden_layer_nodes]))\n",
    "W2 = tf.Variable(tf.random_normal(shape=[Hidden_layer_nodes,1]))\n",
    "v2 = tf.Variable(tf.random_normal(shape=[1]))"
   ]
  },
  {
   "cell_type": "markdown",
   "metadata": {},
   "source": [
    "Here we apply our activation function. In this example we consider ReLU.\n",
    "\n",
    "The rectifier or ReLU (Rectified Linear Unit) activation function is an activation function defined as the positive part of its argument. Here tf.nn.relu Computes rectified linear!"
   ]
  },
  {
   "cell_type": "code",
   "execution_count": 9,
   "metadata": {},
   "outputs": [],
   "source": [
    "hidden_output = tf.nn.relu(tf.add(tf.matmul(x_data, W1), v1))\n",
    "final_output = tf.nn.relu(tf.add(tf.matmul(hidden_output, W2),v2))"
   ]
  },
  {
   "cell_type": "code",
   "execution_count": 10,
   "metadata": {},
   "outputs": [],
   "source": [
    "loss_function = tf.reduce_mean(tf.square(y_target - final_output))"
   ]
  },
  {
   "cell_type": "code",
   "execution_count": 11,
   "metadata": {},
   "outputs": [
    {
     "name": "stdout",
     "output_type": "stream",
     "text": [
      "WARNING:tensorflow:From C:\\Users\\trent\\anaconda3\\lib\\site-packages\\tensorflow\\python\\util\\tf_should_use.py:247: initialize_all_variables (from tensorflow.python.ops.variables) is deprecated and will be removed after 2017-03-02.\n",
      "Instructions for updating:\n",
      "Use `tf.global_variables_initializer` instead.\n"
     ]
    }
   ],
   "source": [
    "Optimizer = tf.train.GradientDescentOptimizer(0.01)\n",
    "train_step = Optimizer.minimize(loss_function)\n",
    "init = tf.initialize_all_variables()\n",
    "sess.run(init)"
   ]
  },
  {
   "cell_type": "code",
   "execution_count": 12,
   "metadata": {},
   "outputs": [
    {
     "name": "stdout",
     "output_type": "stream",
     "text": [
      "Iteration: 100. Loss is = 0.17506626\n",
      "Iteration: 200. Loss is = 0.12282405\n",
      "Iteration: 300. Loss is = 0.09448082\n",
      "Iteration: 400. Loss is = 0.08155643\n",
      "Iteration: 500. Loss is = 0.07577762\n",
      "Iteration: 600. Loss is = 0.072729714\n"
     ]
    }
   ],
   "source": [
    "#Initialize the loss \n",
    "train_loss = []\n",
    "test_loss = []\n",
    "\n",
    "for i in range(600):\n",
    "\n",
    "    val_y = np.transpose([y_vals_train])\n",
    "    #We run the training step\n",
    "    sess.run(train_step, feed_dict={x_data: x_vals_train, y_target:val_y})\n",
    "    #We save the training loss\n",
    "    temp_loss = sess.run(loss_function, feed_dict={x_data: x_vals_train, y_target: val_y})\n",
    "    train_loss.append(np.sqrt(temp_loss))\n",
    "    #Run the test-set loss and save it.\n",
    "    test_temp_loss = sess.run(loss_function, feed_dict={x_data: x_vals_test, y_target: np.transpose([y_vals_test])})\n",
    "    test_loss.append(np.sqrt(test_temp_loss))\n",
    "\n",
    "    if (i+1)%100==0:\n",
    "        print('Iteration: ' + str(i+1) + '. Loss is = ' + str(temp_loss))"
   ]
  },
  {
   "cell_type": "code",
   "execution_count": 13,
   "metadata": {},
   "outputs": [
    {
     "data": {
      "text/plain": [
       "<matplotlib.legend.Legend at 0x180f35bbc10>"
      ]
     },
     "execution_count": 13,
     "metadata": {},
     "output_type": "execute_result"
    },
    {
     "data": {
      "image/png": "[encoded data removed]",
      "text/plain": [
       "<Figure size 432x288 with 1 Axes>"
      ]
     },
     "metadata": {
      "needs_background": "light"
     },
     "output_type": "display_data"
    }
   ],
   "source": [
    "plt.plot(train_loss, 'k-', label='Train Loss')\n",
    "plt.plot(test_loss, '3', label='Test Loss')\n",
    "plt.title('Loss as function of Iteration')\n",
    "plt.xlabel('Iteration')\n",
    "plt.ylabel('Loss')\n",
    "plt.legend(loc='lower left')"
   ]
  }
 ],
 "metadata": {
  "kernelspec": {
   "display_name": "Python 3",
   "language": "python",
   "name": "python3"
  },
  "language_info": {
   "codemirror_mode": {
    "name": "ipython",
    "version": 3
   },
   "file_extension": ".py",
   "mimetype": "text/x-python",
   "name": "python",
   "nbconvert_exporter": "python",
   "pygments_lexer": "ipython3",
   "version": "3.8.5"
  }
 },
 "nbformat": 4,
 "nbformat_minor": 4
}
