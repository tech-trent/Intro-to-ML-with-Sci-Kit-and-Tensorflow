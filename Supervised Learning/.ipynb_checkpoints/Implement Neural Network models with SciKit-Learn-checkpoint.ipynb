{
 "cells": [
  {
   "cell_type": "markdown",
   "metadata": {},
   "source": [
    "### A multilayer perceptron (MLP) is a class of feedforward artificial neural network (ANN).\n",
    "\n",
    "An MLP consists of at least three layers of nodes: an input layer, a hidden layer and an output layer. Except for the input nodes, each node is a neuron that uses a nonlinear activation function. MLP utilizes a supervised learning technique called back-propagation for training. They train on a set of input-output pairs and learn to model the correlation between those inputs and outputs. \n",
    "\n",
    "Here we will learn constructing Neural Networks models in Sci-kit Learn by considering an explicit example:\n",
    "\n",
    " \n",
    "`sklearn.neural` `_network`.MLPClassifier\n",
    "\n",
    "hidden_layer_sizes: tuple, length = n_layers - 2, default=(100,)\n",
    "\n",
    "As you can see by default, the MLP uses 100 hidden nodes\n",
    "\n",
    "The ith element represents the number of neurons in the ith hidden layer.\n",
    "\n",
    "Now we look at the Activation Function Options in MLP in Sci-kit Learn:\n",
    "\n",
    "activation: {‘identity’, ‘logistic’, ‘tanh’, ‘relu’}, default=’relu’\n",
    "\n",
    "Activation function for the hidden layer.\n",
    "\n",
    "As you can see by default, the MLP uses relu as its activation function.\n",
    "\n",
    "    ‘identity’, no-op activation, useful to implement linear bottleneck, returns f(x) = x\n",
    "\n",
    "    ‘logistic’, the logistic sigmoid function, returns f(x) = 1 / (1 + exp(-x)).\n",
    "\n",
    "    ‘tanh’, the hyperbolic tan function, returns f(x) = tanh(x).\n",
    "\n",
    "    ‘relu’, the rectified linear unit function, returns f(x) = max(0, x)\n",
    "\n",
    "The solver for weight optimization in MLP:\n",
    "\n",
    "solver: {‘lbfgs’, ‘sgd’, ‘adam’}, default=’adam’\n",
    "\n",
    "    ‘lbfgs’ is an optimizer in the family of quasi-Newton methods.\n",
    "\n",
    "    ‘sgd’ refers to stochastic gradient descent.\n",
    "\n",
    "    ‘adam’ refers to a stochastic gradient-based optimizer.\n"
   ]
  },
  {
   "cell_type": "code",
   "execution_count": 2,
   "metadata": {},
   "outputs": [],
   "source": [
    "import numpy as np\n",
    "import matplotlib.pyplot as plt\n",
    "from sklearn.model_selection import train_test_split\n",
    "from sklearn.neural_network import MLPClassifier\n",
    "from sklearn.datasets import make_moons"
   ]
  },
  {
   "cell_type": "code",
   "execution_count": 3,
   "metadata": {},
   "outputs": [
    {
     "data": {
      "text/plain": [
       "<matplotlib.collections.PathCollection at 0x2d382364be0>"
      ]
     },
     "execution_count": 3,
     "metadata": {},
     "output_type": "execute_result"
    },
    {
     "data": {
      "image/png": "[encoded data removed]",
      "text/plain": [
       "<Figure size 432x288 with 1 Axes>"
      ]
     },
     "metadata": {
      "needs_background": "light"
     },
     "output_type": "display_data"
    }
   ],
   "source": [
    "#make_moons:  A simple toy dataset to visualize clustering and classification algorithms.\n",
    "\n",
    "X, y = make_moons(n_samples=140, noise=0.22, random_state=3)\n",
    "X_train, X_test, y_train, y_test = train_test_split(X, y, stratify=y,random_state=42)\n",
    "plt.scatter(X_train[:, 0],X_train[:, 1],c=y_train)"
   ]
  },
  {
   "cell_type": "markdown",
   "metadata": {},
   "source": [
    "For small datasets, solver ‘lbfgs’ can converge faster and perform better.\n",
    "\n",
    "'lbfgs’ is an optimizer in the family of quasi-Newton methods.\n",
    "\n",
    "Here we used this algorithm.\n",
    "\n",
    "Note by default, the MLP uses 100 hidden nodes, For our small dataset in this example, it is a lot!"
   ]
  },
  {
   "cell_type": "code",
   "execution_count": 4,
   "metadata": {},
   "outputs": [],
   "source": [
    "MLP_Model = MLPClassifier(solver='lbfgs', random_state=0).fit(X_train, y_train)"
   ]
  },
  {
   "cell_type": "code",
   "execution_count": 5,
   "metadata": {},
   "outputs": [
    {
     "name": "stdout",
     "output_type": "stream",
     "text": [
      "MLP-Model predictions: [1 0 1 1 0 0 0 1 1 0 1 1 1 0 0 0 1 1 0 0 1 1 0 0 0 0 0 1 1 1 1 0 0 0 1]\n",
      "Model accuracy: 0.94\n"
     ]
    }
   ],
   "source": [
    "print(\"MLP-Model predictions: {}\".format(MLP_Model.predict(X_test)))\n",
    "print(\"Model accuracy: {:.2f}\".format(MLP_Model.score(X_test, y_test)))"
   ]
  },
  {
   "cell_type": "markdown",
   "metadata": {},
   "source": [
    "Now let's try to reduce the number of nodes and see the effect. We consider the only 3 nodes:\n",
    "\n",
    "Note that the default nonlinearity is relu"
   ]
  },
  {
   "cell_type": "code",
   "execution_count": 6,
   "metadata": {},
   "outputs": [
    {
     "data": {
      "text/plain": [
       "MLPClassifier(hidden_layer_sizes=[3], random_state=0, solver='lbfgs')"
      ]
     },
     "execution_count": 6,
     "metadata": {},
     "output_type": "execute_result"
    }
   ],
   "source": [
    "mlp = MLPClassifier(solver='lbfgs', random_state=0, hidden_layer_sizes=[3])\n",
    "mlp.fit(X_train, y_train)"
   ]
  },
  {
   "cell_type": "markdown",
   "metadata": {},
   "source": [
    "Up to now we had a single hidden layer. we can add more hidden layers.\n",
    "\n",
    "Here we add a second hidden layer. Each has 20 nodes."
   ]
  },
  {
   "cell_type": "code",
   "execution_count": 7,
   "metadata": {},
   "outputs": [
    {
     "name": "stdout",
     "output_type": "stream",
     "text": [
      "MLP-Model predictions: [1 0 1 1 0 0 0 1 1 0 1 1 1 0 0 0 1 1 0 0 1 1 0 0 0 0 1 1 1 1 1 0 0 0 1]\n",
      "Model accuracy: 0.97\n"
     ]
    }
   ],
   "source": [
    "mlp = MLPClassifier(solver='lbfgs', random_state=0,hidden_layer_sizes=[20, 20])\n",
    "mlp.fit(X_train, y_train)\n",
    "print(\"MLP-Model predictions: {}\".format(mlp.predict(X_test)))\n",
    "print(\"Model accuracy: {:.2f}\".format(mlp.score(X_test, y_test)))"
   ]
  },
  {
   "cell_type": "markdown",
   "metadata": {},
   "source": [
    "Now we use the tanh nonlinearity as our activation function:"
   ]
  },
  {
   "cell_type": "code",
   "execution_count": 8,
   "metadata": {},
   "outputs": [
    {
     "name": "stdout",
     "output_type": "stream",
     "text": [
      "MLP-Model predictions: [1 0 1 1 0 0 0 1 1 0 1 1 1 0 0 0 1 1 0 0 1 1 0 0 0 0 1 1 1 1 1 0 0 0 1]\n",
      "Model accuracy: 0.97\n"
     ]
    }
   ],
   "source": [
    "mlp = MLPClassifier(solver='lbfgs', activation='tanh',random_state=0, hidden_layer_sizes=[8, 8])\n",
    "mlp.fit(X_train, y_train)\n",
    "print(\"MLP-Model predictions: {}\".format(mlp.predict(X_test)))\n",
    "print(\"Model accuracy: {:.2f}\".format(mlp.score(X_test, y_test)))"
   ]
  }
 ],
 "metadata": {
  "kernelspec": {
   "display_name": "Python 3",
   "language": "python",
   "name": "python3"
  },
  "language_info": {
   "codemirror_mode": {
    "name": "ipython",
    "version": 3
   },
   "file_extension": ".py",
   "mimetype": "text/x-python",
   "name": "python",
   "nbconvert_exporter": "python",
   "pygments_lexer": "ipython3",
   "version": "3.8.5"
  }
 },
 "nbformat": 4,
 "nbformat_minor": 4
}
