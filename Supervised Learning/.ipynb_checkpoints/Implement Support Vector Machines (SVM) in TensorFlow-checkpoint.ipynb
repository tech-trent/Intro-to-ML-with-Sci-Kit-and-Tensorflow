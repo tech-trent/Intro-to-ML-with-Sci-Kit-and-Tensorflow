{
 "cells": [
  {
   "cell_type": "code",
   "execution_count": 1,
   "metadata": {},
   "outputs": [
    {
     "name": "stdout",
     "output_type": "stream",
     "text": [
      "WARNING:tensorflow:From C:\\Users\\trent\\anaconda3\\lib\\site-packages\\tensorflow\\python\\compat\\v2_compat.py:96: disable_resource_variables (from tensorflow.python.ops.variable_scope) is deprecated and will be removed in a future version.\n",
      "Instructions for updating:\n",
      "non-resource variables are not supported in the long term\n"
     ]
    }
   ],
   "source": [
    "import numpy as np\n",
    "from sklearn import datasets\n",
    "import tensorflow.compat.v1 as tf\n",
    "tf.disable_v2_behavior()\n",
    "import matplotlib.pyplot as plt"
   ]
  },
  {
   "cell_type": "code",
   "execution_count": 2,
   "metadata": {},
   "outputs": [],
   "source": [
    "Iris = datasets.load_iris()\n",
    "X_values = np.array([[x[0], x[3]] for x in Iris.data])\n",
    "Y_values = np.array([1 if y==0 else -1 for y in Iris.target])"
   ]
  },
  {
   "cell_type": "code",
   "execution_count": 3,
   "metadata": {},
   "outputs": [],
   "source": [
    "train_section = np.random.choice(len(X_values), round(len(X_values)*0.8), replace=False)\n",
    "test_section = np.array(list(set(range(len(X_values))) - set(train_section)))\n",
    "X_train = X_values[train_section]\n",
    "X_test = X_values[test_section]\n",
    "Y_train = Y_values[train_section]\n",
    "Y_test = Y_values[test_section]\n",
    "\n",
    "x_data = tf.placeholder(shape=[None, 2], dtype=tf.float32)\n",
    "y_target = tf.placeholder(shape=[None, 1], dtype=tf.float32)\n",
    "W = tf.Variable(tf.random_normal(shape=[2,1]))\n",
    "b = tf.Variable(tf.random_normal(shape=[1,1]))"
   ]
  },
  {
   "cell_type": "code",
   "execution_count": 4,
   "metadata": {},
   "outputs": [],
   "source": [
    "Model_output = tf.subtract(tf.matmul(x_data, W), b)"
   ]
  },
  {
   "cell_type": "code",
   "execution_count": 5,
   "metadata": {},
   "outputs": [],
   "source": [
    "Norm = tf.reduce_sum(tf.square(W))\n",
    "Lambda = tf.constant([0.1])"
   ]
  },
  {
   "cell_type": "code",
   "execution_count": 6,
   "metadata": {},
   "outputs": [],
   "source": [
    "classification = tf.reduce_mean(tf.maximum(0., tf.subtract(1., tf.multiply(Model_output, y_target))))"
   ]
  },
  {
   "cell_type": "code",
   "execution_count": 7,
   "metadata": {},
   "outputs": [],
   "source": [
    "loss_function = tf.math.add(classification, tf.multiply(Lambda, Norm))"
   ]
  },
  {
   "cell_type": "code",
   "execution_count": 8,
   "metadata": {},
   "outputs": [
    {
     "name": "stdout",
     "output_type": "stream",
     "text": [
      "WARNING:tensorflow:From C:\\Users\\trent\\anaconda3\\lib\\site-packages\\tensorflow\\python\\util\\tf_should_use.py:247: initialize_all_variables (from tensorflow.python.ops.variables) is deprecated and will be removed after 2017-03-02.\n",
      "Instructions for updating:\n",
      "Use `tf.global_variables_initializer` instead.\n"
     ]
    }
   ],
   "source": [
    "sess = tf.Session()\n",
    "my_opt = tf.train.GradientDescentOptimizer(0.01)\n",
    "train_step = my_opt.minimize(loss_function)\n",
    "init = tf.initialize_all_variables()\n",
    "sess.run(init)"
   ]
  },
  {
   "cell_type": "code",
   "execution_count": 9,
   "metadata": {},
   "outputs": [],
   "source": [
    "for i in range(1500):\n",
    "    sess.run(train_step, feed_dict={x_data: X_train, y_target:np.transpose([Y_train])})"
   ]
  },
  {
   "cell_type": "code",
   "execution_count": 10,
   "metadata": {},
   "outputs": [],
   "source": [
    "[[a1], [a2]] = sess.run(W)\n",
    "[[b]] = sess.run(b)\n",
    "sess.close()\n",
    "slope = -a2/a1\n",
    "y_intercept = b/a1\n",
    "xx = np.linspace(0, 3, 50)\n",
    "yy=slope * xx + y_intercept\n",
    "setsosa_x = [d[1] for i,d in enumerate(X_values) if Y_values[i]==1]\n",
    "setsosa_y = [d[0] for i,d in enumerate(X_values) if Y_values[i]==1]\n",
    "not_setsosa_x = [d[1] for i,d in enumerate(X_values) if Y_values[i]==-1]\n",
    "not_setsosa_y = [d[1] for i,d in enumerate(X_values) if Y_values[i]==-1]"
   ]
  },
  {
   "cell_type": "code",
   "execution_count": 11,
   "metadata": {},
   "outputs": [
    {
     "data": {
      "image/png": "[encoded data removed]",
      "text/plain": [
       "<Figure size 432x288 with 1 Axes>"
      ]
     },
     "metadata": {
      "needs_background": "light"
     },
     "output_type": "display_data"
    }
   ],
   "source": [
    "plt.plot(setsosa_x, setsosa_y, 'x', label='I. setsosa')\n",
    "plt.plot(not_setsosa_x, not_setsosa_y, 'v', label='Non-setsosa')\n",
    "plt.plot(xx, yy, 'b-', label='SVM-Linear Separator', linewidth=2.5)\n",
    "plt.ylim([1, 12])\n",
    "plt.legend(loc='upper right')\n",
    "plt.title('Linear SVM in TensorFlow')\n",
    "plt.xlabel('Pedal Width-cm')\n",
    "plt.ylabel('Sepal Length-cm')\n",
    "plt.show()"
   ]
  }
 ],
 "metadata": {
  "kernelspec": {
   "display_name": "Python 3",
   "language": "python",
   "name": "python3"
  },
  "language_info": {
   "codemirror_mode": {
    "name": "ipython",
    "version": 3
   },
   "file_extension": ".py",
   "mimetype": "text/x-python",
   "name": "python",
   "nbconvert_exporter": "python",
   "pygments_lexer": "ipython3",
   "version": "3.8.5"
  }
 },
 "nbformat": 4,
 "nbformat_minor": 4
}
