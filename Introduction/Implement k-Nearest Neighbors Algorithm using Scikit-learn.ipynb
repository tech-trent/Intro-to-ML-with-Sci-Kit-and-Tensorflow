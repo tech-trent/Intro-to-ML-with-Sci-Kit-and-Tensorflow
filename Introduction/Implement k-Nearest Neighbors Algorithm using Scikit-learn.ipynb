{
 "cells": [
  {
   "cell_type": "code",
   "execution_count": 10,
   "metadata": {},
   "outputs": [],
   "source": [
    "#Run the below codes to generate a two-class dataset:\n",
    "import numpy as np\n",
    "import matplotlib.pyplot as plt"
   ]
  },
  {
   "cell_type": "code",
   "execution_count": 11,
   "metadata": {},
   "outputs": [],
   "source": [
    "X=np.array([[ 9.96346605,  4.59676542],\n",
    "       [11.0329545 , -0.16816717],\n",
    "       [11.54155807,  5.21116083],\n",
    "       [ 8.69289001,  1.54322016],\n",
    "       [ 8.1062269 ,  4.28695977],\n",
    "       [ 8.30988863,  4.80623966],\n",
    "       [11.93027136,  4.64866327],\n",
    "       [ 9.67284681, -0.20283165],\n",
    "       [ 8.34810316,  5.13415623],\n",
    "       [ 8.67494727,  4.47573059],\n",
    "       [ 9.17748385,  5.09283177],\n",
    "       [10.24028948,  2.45544401],\n",
    "       [ 8.68937095,  1.48709629],\n",
    "       [ 8.92229526, -0.63993225],\n",
    "       [ 9.49123469,  4.33224792],\n",
    "       [ 9.25694192,  5.13284858],\n",
    "       [ 7.99815287,  4.8525051 ],\n",
    "       [ 8.18378052,  1.29564214],\n",
    "       [ 8.7337095 ,  2.49162431],\n",
    "       [ 9.32298256,  5.09840649],\n",
    "       [10.06393839,  0.99078055],\n",
    "       [ 9.50048972, -0.26430318],\n",
    "       [ 8.34468785,  1.63824349],\n",
    "       [ 9.50169345,  1.93824624],\n",
    "       [ 9.15072323,  5.49832246],\n",
    "       [11.563957  ,  1.3389402 ]])"
   ]
  },
  {
   "cell_type": "code",
   "execution_count": 12,
   "metadata": {},
   "outputs": [],
   "source": [
    "y=np.array([1, 0, 1, 0, 0, 1, 1, 0, 1, 1, 1, 1, 0, 0, 1, 1, 1, 0, 0, 1, 0, 0,\n",
    "       0, 0, 1, 0])"
   ]
  },
  {
   "cell_type": "code",
   "execution_count": 13,
   "metadata": {},
   "outputs": [
    {
     "data": {
      "text/plain": [
       "<matplotlib.collections.PathCollection at 0x28efd9648e0>"
      ]
     },
     "execution_count": 13,
     "metadata": {},
     "output_type": "execute_result"
    },
    {
     "data": {
      "image/png": "[encoded data removed]",
      "text/plain": [
       "<Figure size 432x288 with 1 Axes>"
      ]
     },
     "metadata": {
      "needs_background": "light"
     },
     "output_type": "display_data"
    }
   ],
   "source": [
    "plt.scatter(X[:, 0], X[:, 1],c=y)"
   ]
  },
  {
   "cell_type": "code",
   "execution_count": 14,
   "metadata": {},
   "outputs": [],
   "source": [
    "#Here we apply the k-nearest neighbors machine learning algorithm using scikitlearn\n",
    "\n",
    "#First, we split our dataset into a training and a test set\n",
    "from sklearn.model_selection import train_test_split\n",
    "X_train, X_test, y_train, y_test = train_test_split(X, y, random_state=0)"
   ]
  },
  {
   "cell_type": "code",
   "execution_count": 15,
   "metadata": {},
   "outputs": [],
   "source": [
    "#We set the number of neighbors to 3:\n",
    "from sklearn.neighbors import KNeighborsClassifier\n",
    "clf = KNeighborsClassifier(n_neighbors=3)"
   ]
  },
  {
   "cell_type": "code",
   "execution_count": 16,
   "metadata": {},
   "outputs": [
    {
     "data": {
      "text/plain": [
       "KNeighborsClassifier(n_neighbors=3)"
      ]
     },
     "execution_count": 16,
     "metadata": {},
     "output_type": "execute_result"
    }
   ],
   "source": [
    "#We fit the classifier using the training set\n",
    "clf.fit(X_train, y_train)"
   ]
  },
  {
   "cell_type": "code",
   "execution_count": 17,
   "metadata": {},
   "outputs": [
    {
     "name": "stdout",
     "output_type": "stream",
     "text": [
      "Test set predictions: [1 0 1 0 1 0 0]\n"
     ]
    }
   ],
   "source": [
    "#Now let's make predictions on the test dataset, for this we call the predict method:\n",
    "print(\"Test set predictions: {}\".format(clf.predict(X_test)))"
   ]
  },
  {
   "cell_type": "code",
   "execution_count": 18,
   "metadata": {},
   "outputs": [
    {
     "name": "stdout",
     "output_type": "stream",
     "text": [
      "Test set accuracy: 0.86\n"
     ]
    }
   ],
   "source": [
    "#To see how well our model is, we call the score method with the test data together with the test labels:\n",
    "print(\"Test set accuracy: {:.2f}\".format(clf.score(X_test, y_test)))"
   ]
  }
 ],
 "metadata": {
  "kernelspec": {
   "display_name": "Python 3",
   "language": "python",
   "name": "python3"
  },
  "language_info": {
   "codemirror_mode": {
    "name": "ipython",
    "version": 3
   },
   "file_extension": ".py",
   "mimetype": "text/x-python",
   "name": "python",
   "nbconvert_exporter": "python",
   "pygments_lexer": "ipython3",
   "version": "3.8.5"
  }
 },
 "nbformat": 4,
 "nbformat_minor": 4
}
